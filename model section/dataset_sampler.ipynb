{
 "cells": [
  {
   "cell_type": "markdown",
   "metadata": {},
   "source": [
    "# Imports"
   ]
  },
  {
   "cell_type": "code",
   "execution_count": 1,
   "metadata": {},
   "outputs": [],
   "source": [
    "import os\n",
    "import logging\n",
    "import math\n",
    "from importlib import reload\n",
    "import glob\n",
    "import random\n",
    "import uuid\n",
    "import shutil"
   ]
  },
  {
   "cell_type": "markdown",
   "metadata": {},
   "source": [
    "# Logger Setup"
   ]
  },
  {
   "cell_type": "code",
   "execution_count": 2,
   "metadata": {},
   "outputs": [],
   "source": [
    "logging.shutdown()\n",
    "reload(logging)\n",
    "\n",
    "logging.basicConfig(\n",
    "    format=\"{asctime} - {levelname} - {message}\",\n",
    "    style=\"{\",\n",
    "    datefmt=\"%Y-%m-%d %H:%M\",\n",
    "    level=logging.DEBUG,\n",
    ")\n",
    "logger = logging.getLogger('DATASET SAMPLER')"
   ]
  },
  {
   "cell_type": "markdown",
   "metadata": {},
   "source": [
    "# Folder Locations"
   ]
  },
  {
   "cell_type": "code",
   "execution_count": 3,
   "metadata": {},
   "outputs": [
    {
     "name": "stderr",
     "output_type": "stream",
     "text": [
      "2024-08-23 07:26 - DEBUG - LOCATION 'e:\\University\\Masters\\MSc Project\\dataset\\Horwood Farm July 2022\\100MEDIA' EXISTS\n",
      "2024-08-23 07:26 - DEBUG - LOCATION 'e:\\University\\Masters\\MSc Project\\dataset\\Longleat September 2022\\100MEDIA' EXISTS\n",
      "2024-08-23 07:26 - DEBUG - LOCATION 'e:\\University\\Masters\\MSc Project\\dataset\\Stype August 2022\\100MEDIA' EXISTS\n"
     ]
    }
   ],
   "source": [
    "dataset_locations = [\n",
    "    os.path.join(os.getcwd(), 'dataset', 'Horwood Farm July 2022', '100MEDIA'),\n",
    "    os.path.join(os.getcwd(), 'dataset', 'Longleat September 2022', '100MEDIA'),\n",
    "    os.path.join(os.getcwd(), 'dataset', 'Stype August 2022', '100MEDIA')\n",
    "]\n",
    "\n",
    "subset_dataset_location = os.path.join(os.getcwd(), 'subset_dataset', 'images')\n",
    "\n",
    "for location in dataset_locations:\n",
    "    if os.path.exists(location):\n",
    "        logger.debug(f'LOCATION \\'{location}\\' EXISTS')\n",
    "    else:\n",
    "        logger.warning(f'LOCATION \\'{location}\\' DOES NOT EXIST')"
   ]
  },
  {
   "cell_type": "markdown",
   "metadata": {},
   "source": []
  },
  {
   "cell_type": "markdown",
   "metadata": {},
   "source": [
    "# Establish An Even Distribution of Images from Each Dataset"
   ]
  },
  {
   "cell_type": "code",
   "execution_count": 4,
   "metadata": {},
   "outputs": [
    {
     "name": "stderr",
     "output_type": "stream",
     "text": [
      "2024-08-23 07:26 - DEBUG - GRABBING 6 IMAGES FROM 3 DATASETS\n"
     ]
    }
   ],
   "source": [
    "TOTAL_NUMBER_OF_PICTURES = 18\n",
    "NUMBER_OF_DATASETS = len(os.listdir(os.path.join(os.getcwd(), 'dataset'))) - 1\n",
    "\n",
    "images_per_dataset = int(math.ceil(TOTAL_NUMBER_OF_PICTURES / NUMBER_OF_DATASETS))\n",
    "\n",
    "logger.debug(f'GRABBING {images_per_dataset} IMAGES FROM {NUMBER_OF_DATASETS} DATASETS')"
   ]
  },
  {
   "cell_type": "markdown",
   "metadata": {},
   "source": [
    "# Move Image Subset to New Dataset\n",
    "ONLY RUN THIS ONCE!\n",
    "The potential to move the same images are possible, however, with the usage of UUIDs to prevent name conflicts, it could be hard to tell the duplications have occured."
   ]
  },
  {
   "cell_type": "code",
   "execution_count": 5,
   "metadata": {},
   "outputs": [
    {
     "name": "stderr",
     "output_type": "stream",
     "text": [
      "2024-08-23 07:26 - INFO - FOUND 791 IMAGES IN 'e:\\University\\Masters\\MSc Project\\dataset\\Horwood Farm July 2022\\100MEDIA'\n",
      "2024-08-23 07:26 - DEBUG - MOVING IMAGE 'e:\\University\\Masters\\MSc Project\\dataset\\Horwood Farm July 2022\\100MEDIA\\DJI_0454.JPG' TO 'e:\\University\\Masters\\MSc Project\\subset_dataset\\images'\n",
      "2024-08-23 07:26 - DEBUG - MOVING IMAGE 'e:\\University\\Masters\\MSc Project\\dataset\\Horwood Farm July 2022\\100MEDIA\\DJI_0758.JPG' TO 'e:\\University\\Masters\\MSc Project\\subset_dataset\\images'\n",
      "2024-08-23 07:26 - DEBUG - MOVING IMAGE 'e:\\University\\Masters\\MSc Project\\dataset\\Horwood Farm July 2022\\100MEDIA\\DJI_0614.JPG' TO 'e:\\University\\Masters\\MSc Project\\subset_dataset\\images'\n",
      "2024-08-23 07:26 - DEBUG - MOVING IMAGE 'e:\\University\\Masters\\MSc Project\\dataset\\Horwood Farm July 2022\\100MEDIA\\DJI_0234.JPG' TO 'e:\\University\\Masters\\MSc Project\\subset_dataset\\images'\n",
      "2024-08-23 07:26 - DEBUG - MOVING IMAGE 'e:\\University\\Masters\\MSc Project\\dataset\\Horwood Farm July 2022\\100MEDIA\\DJI_0475.JPG' TO 'e:\\University\\Masters\\MSc Project\\subset_dataset\\images'\n",
      "2024-08-23 07:26 - DEBUG - MOVING IMAGE 'e:\\University\\Masters\\MSc Project\\dataset\\Horwood Farm July 2022\\100MEDIA\\DJI_0656.JPG' TO 'e:\\University\\Masters\\MSc Project\\subset_dataset\\images'\n",
      "2024-08-23 07:26 - INFO - FOUND 420 IMAGES IN 'e:\\University\\Masters\\MSc Project\\dataset\\Longleat September 2022\\100MEDIA'\n",
      "2024-08-23 07:26 - DEBUG - MOVING IMAGE 'e:\\University\\Masters\\MSc Project\\dataset\\Longleat September 2022\\100MEDIA\\DJI_0259.JPG' TO 'e:\\University\\Masters\\MSc Project\\subset_dataset\\images'\n",
      "2024-08-23 07:26 - DEBUG - MOVING IMAGE 'e:\\University\\Masters\\MSc Project\\dataset\\Longleat September 2022\\100MEDIA\\DJI_0215.JPG' TO 'e:\\University\\Masters\\MSc Project\\subset_dataset\\images'\n",
      "2024-08-23 07:26 - DEBUG - MOVING IMAGE 'e:\\University\\Masters\\MSc Project\\dataset\\Longleat September 2022\\100MEDIA\\DJI_0092.JPG' TO 'e:\\University\\Masters\\MSc Project\\subset_dataset\\images'\n",
      "2024-08-23 07:26 - DEBUG - MOVING IMAGE 'e:\\University\\Masters\\MSc Project\\dataset\\Longleat September 2022\\100MEDIA\\DJI_0073.JPG' TO 'e:\\University\\Masters\\MSc Project\\subset_dataset\\images'\n",
      "2024-08-23 07:26 - DEBUG - MOVING IMAGE 'e:\\University\\Masters\\MSc Project\\dataset\\Longleat September 2022\\100MEDIA\\DJI_0026.JPG' TO 'e:\\University\\Masters\\MSc Project\\subset_dataset\\images'\n",
      "2024-08-23 07:26 - DEBUG - MOVING IMAGE 'e:\\University\\Masters\\MSc Project\\dataset\\Longleat September 2022\\100MEDIA\\DJI_0214.JPG' TO 'e:\\University\\Masters\\MSc Project\\subset_dataset\\images'\n",
      "2024-08-23 07:26 - INFO - FOUND 860 IMAGES IN 'e:\\University\\Masters\\MSc Project\\dataset\\Stype August 2022\\100MEDIA'\n",
      "2024-08-23 07:26 - DEBUG - MOVING IMAGE 'e:\\University\\Masters\\MSc Project\\dataset\\Stype August 2022\\100MEDIA\\DJI_0031.JPG' TO 'e:\\University\\Masters\\MSc Project\\subset_dataset\\images'\n",
      "2024-08-23 07:26 - DEBUG - MOVING IMAGE 'e:\\University\\Masters\\MSc Project\\dataset\\Stype August 2022\\100MEDIA\\DJI_0636.JPG' TO 'e:\\University\\Masters\\MSc Project\\subset_dataset\\images'\n",
      "2024-08-23 07:26 - DEBUG - MOVING IMAGE 'e:\\University\\Masters\\MSc Project\\dataset\\Stype August 2022\\100MEDIA\\DJI_0516.JPG' TO 'e:\\University\\Masters\\MSc Project\\subset_dataset\\images'\n",
      "2024-08-23 07:26 - DEBUG - MOVING IMAGE 'e:\\University\\Masters\\MSc Project\\dataset\\Stype August 2022\\100MEDIA\\DJI_0110.JPG' TO 'e:\\University\\Masters\\MSc Project\\subset_dataset\\images'\n",
      "2024-08-23 07:26 - DEBUG - MOVING IMAGE 'e:\\University\\Masters\\MSc Project\\dataset\\Stype August 2022\\100MEDIA\\DJI_0374.JPG' TO 'e:\\University\\Masters\\MSc Project\\subset_dataset\\images'\n",
      "2024-08-23 07:26 - DEBUG - MOVING IMAGE 'e:\\University\\Masters\\MSc Project\\dataset\\Stype August 2022\\100MEDIA\\DJI_0857.JPG' TO 'e:\\University\\Masters\\MSc Project\\subset_dataset\\images'\n"
     ]
    }
   ],
   "source": [
    "for dataset in dataset_locations:\n",
    "    image_paths = glob.glob(os.path.join(dataset, '*.jpg'))\n",
    "    logger.info(f'FOUND {len(image_paths)} IMAGES IN \\'{dataset}\\'')\n",
    "\n",
    "    if len(image_paths) > images_per_dataset:\n",
    "        image_locations = random.sample(image_paths, images_per_dataset)\n",
    "    else:\n",
    "        logger.warning(f'DIRECTORY \\'{dataset}\\' HAS LESS THAN {images_per_dataset}. ONLY EXTRACTING {len(image_paths) - 1}')\n",
    "        image_locations = random.sample(image_paths, len(image_paths) - 1)\n",
    "\n",
    "    if len(image_locations) > 0:\n",
    "        for image_location in image_locations:\n",
    "            logger.debug(f'MOVING IMAGE \\'{image_location}\\' TO \\'{subset_dataset_location}\\'')\n",
    "            shutil.move(image_location, os.path.join(subset_dataset_location, (str(uuid.uuid4()) + '.jpg')))\n",
    "            "
   ]
  },
  {
   "cell_type": "code",
   "execution_count": null,
   "metadata": {},
   "outputs": [],
   "source": []
  }
 ],
 "metadata": {
  "kernelspec": {
   "display_name": "Python 3 (ipykernel)",
   "language": "python",
   "name": "python3"
  },
  "language_info": {
   "codemirror_mode": {
    "name": "ipython",
    "version": 3
   },
   "file_extension": ".py",
   "mimetype": "text/x-python",
   "name": "python",
   "nbconvert_exporter": "python",
   "pygments_lexer": "ipython3",
   "version": "3.9.16"
  }
 },
 "nbformat": 4,
 "nbformat_minor": 2
}
