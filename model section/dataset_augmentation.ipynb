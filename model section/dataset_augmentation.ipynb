{
 "cells": [
  {
   "cell_type": "code",
   "execution_count": 1,
   "metadata": {},
   "outputs": [],
   "source": [
    "import os\n",
    "import cv2\n",
    "import json\n",
    "import random\n",
    "import uuid"
   ]
  },
  {
   "cell_type": "code",
   "execution_count": 2,
   "metadata": {},
   "outputs": [],
   "source": [
    "images_path = os.path.join(os.getcwd(), 'segmentation_test', 'images')\n",
    "labels_path = os.path.join(os.getcwd(), 'segmentation_test', 'labels')"
   ]
  },
  {
   "cell_type": "code",
   "execution_count": 3,
   "metadata": {},
   "outputs": [],
   "source": [
    "def scale_boxes(file_name, x_scale, y_scale):\n",
    "    with open(os.path.join(labels_path, file_name + '.json'), 'r') as f:\n",
    "        data = json.load(f)\n",
    "\n",
    "    boxes = []\n",
    "    for points in data['shapes']:\n",
    "        xmin = int(points['points'][0][0] * x_scale)\n",
    "        ymin = int(points['points'][0][1] * y_scale)\n",
    "        xmax = int(points['points'][1][0] * x_scale)\n",
    "        ymax = int(points['points'][1][1] * y_scale)\n",
    "        boxes.append([xmin, ymin, xmax, ymax])\n",
    "    \n",
    "    return boxes"
   ]
  },
  {
   "cell_type": "code",
   "execution_count": 4,
   "metadata": {},
   "outputs": [],
   "source": [
    "def get_image_and_scale(file_name, new_size):\n",
    "    image = cv2.imread(os.path.join(images_path, file_name + '.jpg'))\n",
    "    y_ = image.shape[0]\n",
    "    x_ = image.shape[1]\n",
    "\n",
    "    image = cv2.resize(image, new_size)\n",
    "\n",
    "    x_scale = new_size[0] / x_\n",
    "    y_scale = new_size[1] / y_\n",
    "\n",
    "    boxes = scale_boxes(file_name, x_scale, y_scale)\n",
    "\n",
    "    return image, boxes"
   ]
  },
  {
   "cell_type": "code",
   "execution_count": 5,
   "metadata": {},
   "outputs": [],
   "source": [
    "def update_json(file_name):\n",
    "    with open(os.path.join(labels_path, file_name + '.json'), 'r') as f:\n",
    "        data = json.load(f)\n",
    "\n",
    "    new_data = data.copy()\n",
    "\n",
    "    image, boxes = get_image_and_scale(file_name, (650, 650))\n",
    "\n",
    "    temp_dict = {'shapes': []}\n",
    "\n",
    "    for box in boxes:\n",
    "        box_format = []\n",
    "        box_format.append([\n",
    "            box[0], box[1]\n",
    "        ])\n",
    "        box_format.append([\n",
    "            box[2], box[3]\n",
    "        ])\n",
    "\n",
    "        temp_dict['shapes'].append(\n",
    "            {\n",
    "                'label': 'dieback_ash',\n",
    "                'points': box_format,\n",
    "                'group_id': None,\n",
    "                'description': '',\n",
    "                'shape_type': 'rectangle',\n",
    "                'flags': {},\n",
    "                'mask': None\n",
    "            }\n",
    "        )\n",
    "\n",
    "    new_data['shapes'] = temp_dict['shapes']\n",
    "    new_uuid = str(uuid.uuid4())\n",
    "    new_data['imagePath'] = new_uuid + '.jpg'\n",
    "    new_data['imageHeight'] = 650\n",
    "    new_data['imageWidth'] = 650\n",
    "    new_data['imageData'] = None\n",
    "\n",
    "    return image, new_data"
   ]
  },
  {
   "cell_type": "code",
   "execution_count": 6,
   "metadata": {},
   "outputs": [],
   "source": [
    "def save_new_data_and_image(file_name):\n",
    "    base_path = os.path.join(os.getcwd(), 'segmentation_test')\n",
    "    new_image_path = os.path.join(base_path, 'segmented_image')\n",
    "    new_label_path = os.path.join(base_path, 'segmented_label')\n",
    "\n",
    "    image, data = update_json(file_name)\n",
    "    new_file_name = data['imagePath']\n",
    "    cv2.imwrite(os.path.join(new_image_path, new_file_name), image)\n",
    "    new_file_name = new_file_name[:-4] + '.json'\n",
    "    with open(os.path.join(new_label_path, new_file_name), 'x') as f:\n",
    "        json.dump(data, f, indent=4)\n",
    "\n"
   ]
  },
  {
   "cell_type": "code",
   "execution_count": 8,
   "metadata": {},
   "outputs": [],
   "source": [
    "all_items = os.listdir(labels_path)\n",
    "\n",
    "for file in all_items:\n",
    "    file = file[:-5]\n",
    "    save_new_data_and_image(file)\n"
   ]
  },
  {
   "cell_type": "code",
   "execution_count": 48,
   "metadata": {},
   "outputs": [
    {
     "data": {
      "text/plain": [
       "-1"
      ]
     },
     "execution_count": 48,
     "metadata": {},
     "output_type": "execute_result"
    }
   ],
   "source": [
    "test_images_path = os.path.join(os.getcwd(), 'segmentation_test', 'segmented_image')\n",
    "test_labels_path = os.path.join(os.getcwd(), 'segmentation_test', 'segmented_label')\n",
    "\n",
    "img = cv2.imread(os.path.join(test_images_path, os.listdir(test_images_path)[3]))\n",
    "\n",
    "with open(os.path.join(test_labels_path, os.listdir(test_labels_path)[3]), 'r') as f:\n",
    "    data = json.load(f)\n",
    "\n",
    "for points in data['shapes']:\n",
    "    xmin = int(points['points'][0][0])\n",
    "    ymin = int(points['points'][0][1])\n",
    "    xmax = int(points['points'][1][0])\n",
    "    ymax = int(points['points'][1][1])\n",
    "    cv2.rectangle(img, (xmin, ymin), (xmax, ymax), (255,0,0), 2)\n",
    "\n",
    "cv2.imshow('check', img)\n",
    "\n",
    "cv2.waitKey(0)"
   ]
  },
  {
   "cell_type": "markdown",
   "metadata": {},
   "source": []
  }
 ],
 "metadata": {
  "kernelspec": {
   "display_name": "tf",
   "language": "python",
   "name": "python3"
  },
  "language_info": {
   "codemirror_mode": {
    "name": "ipython",
    "version": 3
   },
   "file_extension": ".py",
   "mimetype": "text/x-python",
   "name": "python",
   "nbconvert_exporter": "python",
   "pygments_lexer": "ipython3",
   "version": "3.10.14"
  }
 },
 "nbformat": 4,
 "nbformat_minor": 2
}
